{
 "cells": [
  {
   "cell_type": "code",
   "execution_count": null,
   "metadata": {
    "scrolled": true
   },
   "outputs": [],
   "source": [
    "import os\n",
    "import numpy as np\n",
    "import pandas as pd\n",
    "#import pandas_profiling\n",
    "#import plotnine\n",
    "#from plotnine import *  # Provides a ggplot-like interface to matplotlib.\n",
    "#from IPython.display import display\n"
   ]
  },
  {
   "cell_type": "code",
   "execution_count": null,
   "metadata": {},
   "outputs": [],
   "source": [
    "!pip install --upgrade dsub\n"
   ]
  },
  {
   "cell_type": "code",
   "execution_count": null,
   "metadata": {
    "scrolled": true
   },
   "outputs": [],
   "source": [
    "bucket = os.getenv(\"WORKSPACE_BUCKET\")\n",
    "bucket"
   ]
  },
  {
   "cell_type": "code",
   "execution_count": null,
   "metadata": {},
   "outputs": [],
   "source": [
    "%%writefile ~/aou_dsub.bash\n",
    "\n",
    "#!/bin/bash\n",
    "\n",
    "function aou_dsub () {\n",
    "\n",
    "  # Get a shorter username to leave more characters for the job name.\n",
    "  local DSUB_USER_NAME=\"$(echo \"${OWNER_EMAIL}\" | cut -d@ -f1)\"\n",
    "\n",
    "  # For AoU RWB projects network name is \"network\".\n",
    "  local AOU_NETWORK=network\n",
    "  local AOU_SUBNETWORK=subnetwork\n",
    "\n",
    "  dsub \\\n",
    "      --provider google-cls-v2 \\\n",
    "      --user-project \"${GOOGLE_PROJECT}\"\\\n",
    "      --project \"${GOOGLE_PROJECT}\"\\\n",
    "      --network \"${AOU_NETWORK}\" \\\n",
    "      --subnetwork \"${AOU_SUBNETWORK}\" \\\n",
    "      --service-account \"$(gcloud config get-value account)\" \\\n",
    "      --user \"${DSUB_USER_NAME}\" \\\n",
    "      --regions us-central1 \\\n",
    "      --boot-disk-size 55 \\\n",
    "      --logging \"${WORKSPACE_BUCKET}/dsub/logs/{job-name}/{user-id}/$(date +'%Y%m%d/%H%M%S')/{job-id}-{task-id}-{task-attempt}.log\" \\\n",
    "      \"$@\"\n",
    "}"
   ]
  },
  {
   "cell_type": "code",
   "execution_count": null,
   "metadata": {},
   "outputs": [],
   "source": [
    "%%bash\n",
    "chmod +x ~/aou_dsub.bash\n",
    "echo source ~/aou_dsub.bash >> ~/.bashrc"
   ]
  },
  {
   "cell_type": "code",
   "execution_count": null,
   "metadata": {},
   "outputs": [],
   "source": [
    "USER_NAME = os.getenv('OWNER_EMAIL').split('@')[0].replace('.','-')\n",
    "\n",
    "# Save this Python variable as an environment variable so that its easier to use within %%bash cells.\n",
    "%env USER_NAME={USER_NAME}"
   ]
  },
  {
   "cell_type": "markdown",
   "metadata": {},
   "source": [
    "# run PRS for PRS-CS for AoU Pops"
   ]
  },
  {
   "cell_type": "code",
   "execution_count": null,
   "metadata": {},
   "outputs": [],
   "source": [
    "!gsutil cp run_prs_forPRS-CS_aou.sh {bucket}/panukbb/individualPRS\n",
    "        \n",
    "        "
   ]
  },
  {
   "cell_type": "code",
   "execution_count": null,
   "metadata": {},
   "outputs": [],
   "source": [
    "!gsutil -m cp -r /home/jupyter/panukbb/v2/prscs_aou/results_231201/ ${WORKSPACE_BUCKET}/panukbb/prs_cs/aou/results_231201/"
   ]
  },
  {
   "cell_type": "code",
   "execution_count": null,
   "metadata": {},
   "outputs": [],
   "source": [
    "%%writefile /home/jupyter/run_prs_forPRS-CS_aou.sh\n",
    "\n",
    "set -o errexit\n",
    "set -o nounset\n",
    "\n",
    "PLINK_BFILE=\"${PLINK_FILES%.*}\"\n",
    "echo ${PLINK_BFILE}\n",
    "\n",
    "unzip \"${PLINK2_SOFT}\"\n",
    "\n",
    "       \n",
    "    ./plink2 --bfile \"${PLINK_BFILE}\" \\\n",
    "        --score \"${SCOREFILE}\" 2 4 \"${POSTERIOR}\" cols=+scoresums --center\\\n",
    "        --out \"${OUT_DIR}\"/\"${PHENO}\"_chr\"${CHROM}\"_posterior\"${POSTERIOR}\"\n",
    "    \n"
   ]
  },
  {
   "cell_type": "code",
   "execution_count": null,
   "metadata": {},
   "outputs": [],
   "source": []
  },
  {
   "cell_type": "code",
   "execution_count": null,
   "metadata": {},
   "outputs": [],
   "source": [
    "files = {'--env CHROM':[],'--env PHENO':[],'--input SCOREFILE':[],'--input PLINK_FILES':[],'--env POSTERIOR':[]}\n",
    "\n",
    "phenos = []\n",
    "with open('phenos.list','rt') as inpu:\n",
    "    for i in inpu:\n",
    "        if i ==\"\\n\":\n",
    "            continue\n",
    "        phenos.append(i.replace('\\n',''))\n",
    "            \n",
    "\n",
    "for pheno in phenos:\n",
    "    for c in range(1,23):\n",
    "        for pos in range(100):\n",
    "            files['--env CHROM'].append(c)\n",
    "            files['--env PHENO'].append(pheno)\n",
    "            files['--input SCOREFILE'].append(f\"{bucket}/panukbb/individualPRS/PRS/chr{c}/AoU_meta/{pheno}_chr{c}.txt\")\n",
    "            files['--input PLINK_FILES'].append(f'{bucket}/panukbb/data/aou_v7_testPops_chr{c}.*')\n",
    "            files['--env POSTERIOR'].append(pos+6)\n",
    "\n",
    "files = pd.DataFrame(files)\n",
    "\n",
    "PARAMETER_FILENAME = 'prs_posteriors.tsv'\n",
    "TEST_FILENAME = 'prs_posteriors_test.tsv'\n",
    "# Save this Python variable value an environment variable so that its easier to use within %%bash cells.\n",
    "%env PARAMETER_FILENAME={PARAMETER_FILENAME}\n",
    "%env TEST_FILENAME={TEST_FILENAME}\n",
    "\n",
    "files.to_csv(PARAMETER_FILENAME, sep='\\t', index=False)\n",
    "!head -n 1 {PARAMETER_FILENAME} > {TEST_FILENAME}\n",
    "!tail -n 1 {PARAMETER_FILENAME} >> {TEST_FILENAME}\n",
    "\n"
   ]
  },
  {
   "cell_type": "code",
   "execution_count": null,
   "metadata": {},
   "outputs": [],
   "source": [
    "!cat {TEST_FILENAME}"
   ]
  },
  {
   "cell_type": "code",
   "execution_count": null,
   "metadata": {},
   "outputs": [],
   "source": [
    "# Use hyphens, not whitespace since it will become part of the bucket path.\n",
    "job = TEST_FILENAME.replace('.tsv','')\n",
    "\n",
    "# Save this Python variable as an environment variable so that its easier to use within %%bash cells.\n",
    "%env JOB_NAME={job}"
   ]
  },
  {
   "cell_type": "code",
   "execution_count": null,
   "metadata": {},
   "outputs": [],
   "source": [
    "!gsutil cat gs://fc-secure-06f42177-4b29-4956-88a8-88ede84cb2ab/panukbb/profiles/prs_cs/aou/chrs/continuous-30000-both_sexes-irnt_chr22_posterior105.log\n",
    "    \n",
    "    "
   ]
  },
  {
   "cell_type": "code",
   "execution_count": null,
   "metadata": {},
   "outputs": [],
   "source": [
    "%%bash --out prs_posterior\n",
    "\n",
    "source ~/aou_dsub.bash\n",
    "\n",
    "aou_dsub \\\n",
    "  --image \"gcr.io/ukbb-diversepops-neale/yw-prs-r:test\" \\\n",
    "  --input PLINK2_SOFT=\"${WORKSPACE_BUCKET}/software/plink2.zip\" \\\n",
    "  --output-recursive OUT_DIR=\"${WORKSPACE_BUCKET}/individualPRS/indiv_result\" \\\n",
    "  --name \"${JOB_NAME}\" \\\n",
    "  --disk-size 100 \\\n",
    "  --tasks \"${TEST_FILENAME}\" \\\n",
    "  --min-cores 4 \\\n",
    "  --min-ram 100 \\\n",
    "  --preemptible \\\n",
    "  --logging \"${WORKSPACE_BUCKET}/panukbb/individualPRS/indiv_result/logging\" \\\n",
    "  --script \"/home/jupyter/run_prs_forPRS-CS_aou.sh\""
   ]
  },
  {
   "cell_type": "code",
   "execution_count": null,
   "metadata": {},
   "outputs": [],
   "source": [
    "!dstat --provider google-cls-v2 --project terra-vpc-sc-da94e041 --location us-central1 --jobs 'prs-poster--zhuozshi--240508-013347-30' --users 'zhuozshi' --status '*'\n",
    "\n",
    "\n",
    "\n"
   ]
  }
 ],
 "metadata": {
  "kernelspec": {
   "display_name": "Python 3",
   "language": "python",
   "name": "python3"
  },
  "language_info": {
   "codemirror_mode": {
    "name": "ipython",
    "version": 3
   },
   "file_extension": ".py",
   "mimetype": "text/x-python",
   "name": "python",
   "nbconvert_exporter": "python",
   "pygments_lexer": "ipython3",
   "version": "3.10.12"
  },
  "toc": {
   "base_numbering": 1,
   "nav_menu": {},
   "number_sections": true,
   "sideBar": true,
   "skip_h1_title": false,
   "title_cell": "Table of Contents",
   "title_sidebar": "Contents",
   "toc_cell": false,
   "toc_position": {},
   "toc_section_display": true,
   "toc_window_display": false
  }
 },
 "nbformat": 4,
 "nbformat_minor": 2
}
