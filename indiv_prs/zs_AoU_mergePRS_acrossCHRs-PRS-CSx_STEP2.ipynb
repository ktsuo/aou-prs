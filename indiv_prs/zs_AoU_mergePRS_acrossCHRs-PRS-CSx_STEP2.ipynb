{
 "cells": [
  {
   "cell_type": "code",
   "execution_count": null,
   "metadata": {},
   "outputs": [],
   "source": [
    "import os\n",
    "import numpy as np\n",
    "import pandas as pd\n"
   ]
  },
  {
   "cell_type": "code",
   "execution_count": null,
   "metadata": {},
   "outputs": [],
   "source": [
    "!pip install --upgrade dsub\n"
   ]
  },
  {
   "cell_type": "code",
   "execution_count": null,
   "metadata": {},
   "outputs": [],
   "source": [
    "bucket = os.getenv(\"WORKSPACE_BUCKET\")\n",
    "bucket"
   ]
  },
  {
   "cell_type": "code",
   "execution_count": null,
   "metadata": {},
   "outputs": [],
   "source": [
    "%%writefile ~/aou_dsub.bash\n",
    "\n",
    "#!/bin/bash\n",
    "\n",
    "function aou_dsub () {\n",
    "\n",
    "  # Get a shorter username to leave more characters for the job name.\n",
    "  local DSUB_USER_NAME=\"$(echo \"${OWNER_EMAIL}\" | cut -d@ -f1)\"\n",
    "\n",
    "  # For AoU RWB projects network name is \"network\".\n",
    "  local AOU_NETWORK=network\n",
    "  local AOU_SUBNETWORK=subnetwork\n",
    "\n",
    "  dsub \\\n",
    "      --provider google-cls-v2 \\\n",
    "      --user-project \"${GOOGLE_PROJECT}\"\\\n",
    "      --project \"${GOOGLE_PROJECT}\"\\\n",
    "      --network \"${AOU_NETWORK}\" \\\n",
    "      --subnetwork \"${AOU_SUBNETWORK}\" \\\n",
    "      --service-account \"$(gcloud config get-value account)\" \\\n",
    "      --user \"${DSUB_USER_NAME}\" \\\n",
    "      --regions us-central1 \\\n",
    "      --boot-disk-size 55 \\\n",
    "      --logging \"${WORKSPACE_BUCKET}/dsub/logs/{job-name}/{user-id}/$(date +'%Y%m%d/%H%M%S')/{job-id}-{task-id}-{task-attempt}.log\" \\\n",
    "      \"$@\"\n",
    "}"
   ]
  },
  {
   "cell_type": "code",
   "execution_count": null,
   "metadata": {},
   "outputs": [],
   "source": [
    "\n",
    "%%bash\n",
    "chmod +x ~/aou_dsub.bash\n",
    "echo source ~/aou_dsub.bash >> ~/.bashrc"
   ]
  },
  {
   "cell_type": "code",
   "execution_count": null,
   "metadata": {},
   "outputs": [],
   "source": [
    "USER_NAME = os.getenv('OWNER_EMAIL').split('@')[0].replace('.','-')\n",
    "\n",
    "# Save this Python variable as an environment variable so that its easier to use within %%bash cells.\n",
    "%env USER_NAME={USER_NAME}"
   ]
  },
  {
   "cell_type": "markdown",
   "metadata": {},
   "source": [
    "# PRS-CSx"
   ]
  },
  {
   "cell_type": "code",
   "execution_count": null,
   "metadata": {},
   "outputs": [],
   "source": [
    "%%writefile merge_scoreFiles_PRS_CSx.R\n",
    "#!/usr/bin/env Rscript\n",
    "\n",
    "library(data.table)\n",
    "\n",
    "setDTthreads(32)\n",
    "\n",
    "scores1 <- c(\"IID\", \"SCORE1_SUM\")\n",
    "\n",
    "prsdir2 <- dirname(Sys.getenv(\"PRS_DIR\"))\n",
    "phe <- Sys.getenv(\"PHENO\")\n",
    "outdir <- Sys.getenv(\"OUT_DIR\")\n",
    "post <- Sys.getenv(\"POSTERIOR\")\n",
    "pcount <- Sys.getenv(\"PCOUNT\")\n",
    "\n",
    "print(paste0(\"PRS_DIR is \", prsdir2))\n",
    "print(paste0(\"OUT_DIR is \", outdir))\n",
    "\n",
    "\n",
    "listDf1 <- list()\n",
    "\n",
    "for(chrom in 1:22){\n",
    "\n",
    "    df1 <- fread(paste0(prsdir2, \"/\", phe, \"_chr\", chrom, \"_posterior\",post,\".sscore\"),  stringsAsFactors = F)[,..scores1]\n",
    "\n",
    "    names(df1)[2] <- paste0(\"chr\", chrom)\n",
    "    listDf1[[chrom]] <- df1\n",
    "    rm(df1)\n",
    "}\n",
    "dfMerged <- Reduce(function(...) merge(..., by = c(\"IID\")), listDf1)\n",
    "dfMerged[,SCORE1_SUM := rowSums(as.matrix(dfMerged[,2:ncol(dfMerged)]))]\n",
    "prs <- dfMerged[,c(\"IID\", \"SCORE1_SUM\")]\n",
    "\n",
    "fwrite(prs, file = paste0(outdir, \"/\", phe, \"_posterior\",pcount,\".sscore\"), col.names = T, row.names = F, quote = F, sep = \"\\t\")\n"
   ]
  },
  {
   "cell_type": "code",
   "execution_count": null,
   "metadata": {},
   "outputs": [],
   "source": [
    "files = {'--env PHENO':[],'--input PRS_DIR':[],'--output-recursive OUT_DIR':[],'--env POSTERIOR':[],'--env PCOUNT':[]}\n",
    "\n",
    "phenos = []\n",
    "with open('phenos.list','rt') as inpu:\n",
    "    for i in inpu:\n",
    "        if i ==\"\\n\":\n",
    "            continue\n",
    "        phenos.append(i.replace('\\n',''))\n",
    "            \n",
    "\n",
    "for pheno in phenos:\n",
    "    for pos in range(100):\n",
    "        files['--env PHENO'].append(pheno)\n",
    "        files['--input PRS_DIR'].append(f'{bucket}/individualPRS/indiv_result/{pheno}_chr*_posterior{pos+6}.sscore')\n",
    "        files['--output-recursive OUT_DIR'].append(f'{bucket}/individualPRS/merged_result/')\n",
    "        files['--env POSTERIOR'].append(pos+6)\n",
    "        files['--env PCOUNT'].append(pos+1)\n",
    "\n",
    "files = pd.DataFrame(files)\n",
    "\n",
    "PARAMETER_FILENAME = 'merge_prs.tsv'\n",
    "TEST_FILENAME = 'merge_prs_test.tsv'\n",
    "# Save this Python variable value an environment variable so that its easier to use within %%bash cells.\n",
    "%env PARAMETER_FILENAME={PARAMETER_FILENAME}\n",
    "%env TEST_FILENAME={TEST_FILENAME}\n",
    "\n",
    "files.to_csv(PARAMETER_FILENAME, sep='\\t', index=False)\n",
    "!head -n 1 {PARAMETER_FILENAME} > {TEST_FILENAME}\n",
    "!tail -n 1 {PARAMETER_FILENAME} >> {TEST_FILENAME}\n",
    "\n"
   ]
  },
  {
   "cell_type": "code",
   "execution_count": null,
   "metadata": {},
   "outputs": [],
   "source": [
    "!cat {TEST_FILENAME}"
   ]
  },
  {
   "cell_type": "code",
   "execution_count": null,
   "metadata": {},
   "outputs": [],
   "source": [
    "# Use hyphens, not whitespace since it will become part of the bucket path.\n",
    "job = TEST_FILENAME.replace('.tsv','')\n",
    "\n",
    "# Save this Python variable as an environment variable so that its easier to use within %%bash cells.\n",
    "%env JOB_NAME={job}"
   ]
  },
  {
   "cell_type": "code",
   "execution_count": null,
   "metadata": {},
   "outputs": [],
   "source": [
    "%%bash --out merge_prs_test\n",
    "\n",
    "source ~/aou_dsub.bash\n",
    "\n",
    "\n",
    "aou_dsub \\\n",
    "  --image \"gcr.io/ukbb-diversepops-neale/yw-prs-r:test\" \\\n",
    "  --min-cores 16 \\\n",
    "  --min-ram 20 \\\n",
    "  --disk-size 10 \\\n",
    "  --boot-disk-size 10 \\\n",
    "  --name \"${JOB_NAME}\"  \\\n",
    "  --preemptible \\\n",
    "  --logging \"${WORKSPACE_BUCKET}/panukbb/individualPRS/indiv_result/logging\" \\\n",
    "  --tasks \"${TEST_FILENAME}\" \\\n",
    "  --script 'merge_scoreFiles_PRS_CSx.R'\n"
   ]
  },
  {
   "cell_type": "code",
   "execution_count": null,
   "metadata": {},
   "outputs": [],
   "source": [
    "!dstat --provider google-cls-v2 --project terra-vpc-sc-da94e041 --location us-central1 --jobs 'merge-prs---zhuozshi--240508-173917-74' --users 'zhuozshi' --status '*'\n",
    "\n",
    "\n"
   ]
  },
  {
   "cell_type": "code",
   "execution_count": null,
   "metadata": {},
   "outputs": [],
   "source": [
    "# Use hyphens, not whitespace since it will become part of the bucket path.\n",
    "job = PARAMETER_FILENAME.replace('.tsv','')\n",
    "\n",
    "# Save this Python variable as an environment variable so that its easier to use within %%bash cells.\n",
    "%env JOB_NAME={job}"
   ]
  },
  {
   "cell_type": "code",
   "execution_count": null,
   "metadata": {},
   "outputs": [],
   "source": [
    "%%bash --out merge_prs_test\n",
    "\n",
    "source ~/aou_dsub.bash\n",
    "\n",
    "\n",
    "aou_dsub \\\n",
    "  --image \"gcr.io/ukbb-diversepops-neale/yw-prs-r:test\" \\\n",
    "  --min-cores 16 \\\n",
    "  --min-ram 20 \\\n",
    "  --disk-size 10 \\\n",
    "  --boot-disk-size 10 \\\n",
    "  --name \"${JOB_NAME}\"  \\\n",
    "  --preemptible \\\n",
    "  --logging \"${WORKSPACE_BUCKET}/panukbb/individualPRS/indiv_result/logging\" \\\n",
    "  --tasks \"${PARAMETER_FILENAME}\" \\\n",
    "  --script 'merge_scoreFiles_PRS_CSx.R'\n"
   ]
  },
  {
   "cell_type": "code",
   "execution_count": null,
   "metadata": {},
   "outputs": [],
   "source": [
    "!dstat --provider google-cls-v2 --project terra-vpc-sc-da94e041 --location us-central1 --jobs 'merge-prs--zhuozshi--240508-174240-96' --users 'zhuozshi' --status '*'\n",
    "\n",
    "\n"
   ]
  }
 ],
 "metadata": {
  "kernelspec": {
   "display_name": "Python 3",
   "language": "python",
   "name": "python3"
  },
  "language_info": {
   "codemirror_mode": {
    "name": "ipython",
    "version": 3
   },
   "file_extension": ".py",
   "mimetype": "text/x-python",
   "name": "python",
   "nbconvert_exporter": "python",
   "pygments_lexer": "ipython3",
   "version": "3.10.12"
  },
  "toc": {
   "base_numbering": 1,
   "nav_menu": {},
   "number_sections": true,
   "sideBar": true,
   "skip_h1_title": false,
   "title_cell": "Table of Contents",
   "title_sidebar": "Contents",
   "toc_cell": false,
   "toc_position": {},
   "toc_section_display": true,
   "toc_window_display": false
  }
 },
 "nbformat": 4,
 "nbformat_minor": 2
}
