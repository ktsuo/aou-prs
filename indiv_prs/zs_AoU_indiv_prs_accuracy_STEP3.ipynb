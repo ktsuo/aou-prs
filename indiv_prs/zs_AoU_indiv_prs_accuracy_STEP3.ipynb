{
 "cells": [
  {
   "cell_type": "code",
   "execution_count": null,
   "metadata": {},
   "outputs": [],
   "source": [
    "import os\n",
    "import numpy as np\n",
    "import pandas as pd\n",
    "import statsmodels.api as sm\n",
    "import matplotlib.pyplot as plt\n",
    "from tqdm import tqdm\n",
    "from matplotlib import cm\n",
    "import scipy.stats as stats\n"
   ]
  },
  {
   "cell_type": "code",
   "execution_count": null,
   "metadata": {},
   "outputs": [],
   "source": [
    "bucket = os.getenv(\"WORKSPACE_BUCKET\")\n",
    "bucket"
   ]
  },
  {
   "cell_type": "code",
   "execution_count": null,
   "metadata": {},
   "outputs": [],
   "source": [
    "%%writefile ~/aou_dsub.bash\n",
    "\n",
    "#!/bin/bash\n",
    "\n",
    "function aou_dsub () {\n",
    "\n",
    "  # Get a shorter username to leave more characters for the job name.\n",
    "  local DSUB_USER_NAME=\"$(echo \"${OWNER_EMAIL}\" | cut -d@ -f1)\"\n",
    "\n",
    "  # For AoU RWB projects network name is \"network\".\n",
    "  local AOU_NETWORK=network\n",
    "  local AOU_SUBNETWORK=subnetwork\n",
    "\n",
    "  dsub \\\n",
    "      --provider google-cls-v2 \\\n",
    "      --user-project \"${GOOGLE_PROJECT}\"\\\n",
    "      --project \"${GOOGLE_PROJECT}\"\\\n",
    "      --network \"${AOU_NETWORK}\" \\\n",
    "      --subnetwork \"${AOU_SUBNETWORK}\" \\\n",
    "      --service-account \"$(gcloud config get-value account)\" \\\n",
    "      --user \"${DSUB_USER_NAME}\" \\\n",
    "      --regions us-central1 \\\n",
    "      --boot-disk-size 55 \\\n",
    "      --logging \"${WORKSPACE_BUCKET}/dsub/logs/{job-name}/{user-id}/$(date +'%Y%m%d/%H%M%S')/{job-id}-{task-id}-{task-attempt}.log\" \\\n",
    "      \"$@\"\n",
    "}"
   ]
  },
  {
   "cell_type": "code",
   "execution_count": null,
   "metadata": {},
   "outputs": [],
   "source": [
    "%%bash\n",
    "chmod +x ~/aou_dsub.bash\n",
    "echo source ~/aou_dsub.bash >> ~/.bashrc"
   ]
  },
  {
   "cell_type": "code",
   "execution_count": null,
   "metadata": {},
   "outputs": [],
   "source": [
    "USER_NAME = os.getenv('OWNER_EMAIL').split('@')[0].replace('.','-')\n",
    "\n",
    "# Save this Python variable as an environment variable so that its easier to use within %%bash cells.\n",
    "%env USER_NAME={USER_NAME}"
   ]
  },
  {
   "cell_type": "code",
   "execution_count": null,
   "metadata": {},
   "outputs": [],
   "source": [
    "phenos = []\n",
    "with open('phenos.list','rt') as inpu:\n",
    "    for i in inpu:\n",
    "        if i ==\"\\n\":\n",
    "            continue\n",
    "        phenos.append(i.replace('\\n',''))"
   ]
  },
  {
   "cell_type": "code",
   "execution_count": null,
   "metadata": {},
   "outputs": [],
   "source": [
    "pdict = {'continuous-50-both_sexes-irnt':\"Height\",'continuous-23104-both_sexes-irnt':\"BMI\",'continuous-30050-both_sexes-irnt':\"MCH\",'continuous-30040-both_sexes-irnt':\"MCV\",'continuous-30140-both_sexes-irnt':\"Neutrophil_count\",'continuous-30000-both_sexes-irnt':\"WBC_count\"}\n"
   ]
  },
  {
   "cell_type": "code",
   "execution_count": null,
   "metadata": {},
   "outputs": [],
   "source": [
    "samples = np.array(pd.read_csv(f\"{bucket}/panukbb/data/aou_v7_testPops_chr1.fam\",sep=\"\\t\",header=None)[1])\n"
   ]
  },
  {
   "cell_type": "code",
   "execution_count": null,
   "metadata": {},
   "outputs": [],
   "source": [
    "df = pd.read_csv(f\"{bucket}/panukbb/phenos/0723_quant_combined_panukbb_v7_rint.tsv\",sep=\"\\t\")\n",
    "df = df[df[\"IID\"].isin(samples)]"
   ]
  },
  {
   "cell_type": "code",
   "execution_count": null,
   "metadata": {},
   "outputs": [],
   "source": [
    "h2s = pd.read_csv(f\"ldsc_rg_EUR.csv\",sep=\",\")"
   ]
  },
  {
   "cell_type": "code",
   "execution_count": null,
   "metadata": {},
   "outputs": [],
   "source": [
    "phenodf = pd.read_csv(\"gs://fc-secure-06f42177-4b29-4956-88a8-88ede84cb2ab/panukbb/phenos/0723_panukbb_training_phenos.tsv\",sep=\"\\t\")\n"
   ]
  },
  {
   "cell_type": "code",
   "execution_count": null,
   "metadata": {},
   "outputs": [],
   "source": [
    "create = False"
   ]
  },
  {
   "cell_type": "markdown",
   "metadata": {
    "heading_collapsed": true
   },
   "source": [
    "# Rescaling "
   ]
  },
  {
   "cell_type": "code",
   "execution_count": null,
   "metadata": {
    "hidden": true
   },
   "outputs": [],
   "source": [
    "minall = 1\n",
    "maxall = 0\n",
    "\n",
    "for anc in [\"\",\"_EURPRS\"]:\n",
    "    for i in range(len(phenos)):\n",
    "        df = pd.read_csv(f\"{bucket}/panukbb/individualPRS/merged_result{anc}/{phenos[i]}_accuracy_zscore.tsv\",sep=\"\\t\",header=None)\n",
    "        minlocal = min(df[2])\n",
    "        maxlocal = max(df[2])\n",
    "        if minlocal<minall:\n",
    "            minall = minlocal\n",
    "        if maxlocal>maxall:\n",
    "            maxall = maxlocal"
   ]
  },
  {
   "cell_type": "code",
   "execution_count": null,
   "metadata": {
    "hidden": true
   },
   "outputs": [],
   "source": [
    "for anc in [\"\",\"_EURPRS\"]:\n",
    "    for i in range(len(phenos)):\n",
    "        df = pd.read_csv(f\"{bucket}/panukbb/individualPRS/merged_result{anc}/{phenos[i]}_accuracy_zscore.tsv\",sep=\"\\t\",header=None)\n",
    "        df[2] = (df[2]-minall)/(maxall-minall)\n",
    "        df.to_csv(f\"{bucket}/panukbb/individualPRS/merged_result{anc}/{phenos[i]}_rescaled.tsv\",sep=\"\\t\",index=None,header=None)\n"
   ]
  },
  {
   "cell_type": "code",
   "execution_count": null,
   "metadata": {
    "hidden": true
   },
   "outputs": [],
   "source": [
    "maxall, minall"
   ]
  },
  {
   "cell_type": "markdown",
   "metadata": {
    "heading_collapsed": true
   },
   "source": [
    "# Supplementary"
   ]
  },
  {
   "cell_type": "code",
   "execution_count": null,
   "metadata": {
    "hidden": true
   },
   "outputs": [],
   "source": []
  },
  {
   "cell_type": "code",
   "execution_count": null,
   "metadata": {
    "hidden": true
   },
   "outputs": [],
   "source": [
    "def plot_all(ax,x,y,groups,groupind,label=\"Multi\",marker='o',veritcal=\"top\",xc=0.99,yc=0.9,legend=True,line=\"--\",color=\"black\",text=True):\n",
    "    colors = plt.rcParams['axes.prop_cycle'].by_key()['color']\n",
    "    colors = [\"#941494\",\"#ED1E24\",\"#FF9912\",\"#108C44\",\"#6AA5CD\",\"#33CC33\"]\n",
    "\n",
    "    coefficients = np.polyfit(x, y, 1)\n",
    "    slope, intercept = coefficients\n",
    "    polynomial = np.poly1d(coefficients)\n",
    "    x_fit = np.linspace(min(x), max(x), 100)\n",
    "    y_fit = polynomial(x_fit)\n",
    "    index = 0\n",
    "    for name, group in groups:\n",
    "        #group = group.iloc[:int(len(group)*0.01)]\n",
    "        if legend:\n",
    "            ax.plot(group[\"euc_dist\"], group[groupind], marker=marker, linestyle='', ms=5, label=f'{name}_PRS_{label}',alpha=0.15,c=colors[index])\n",
    "        else:\n",
    "            ax.plot(group[\"euc_dist\"], group[groupind], marker=marker, linestyle='', ms=5, alpha=0.15,c=colors[index])\n",
    "        index+=1\n",
    "    ax.plot(x_fit, y_fit, line,color=color, label=f'{label} Line of Best Fit',zorder=10)\n",
    "    corr = stats.pearsonr(x, y).statistic\n",
    "    if text:\n",
    "        ax.text(xc, yc, f'PRS {label} R: {corr:.3f}, y = {intercept:.2f} - {-slope:.2f}x',\n",
    "                 horizontalalignment='left',\n",
    "                 verticalalignment=veritcal,\n",
    "                 transform = ax.transAxes)\n",
    "\n",
    "\n",
    "def sample_legend(ax,xb,yb):\n",
    "    \n",
    "    labels = ['AMR', 'EUR', 'AFR', 'CSA', 'EAS', 'MID',\"PRS Multi (AoU)\",\"PRS EUR (AoU)\"]\n",
    "    colors = [\"#ED1E24\",\"#6AA5CD\",\"#941494\",\"#FF9912\",\"#108C44\",\"#33CC33\",\"black\",\"black\"]\n",
    "    markers = ['s', 's', 's', 's', 's', 's',\"o\",\"D\"]\n",
    "    lines = ['--','-']\n",
    "    lcolors = [\"blue\",\"black\"]\n",
    "    llabels = [\"PRS Multi R\",\"PRS EUR R\"]\n",
    "    \n",
    "    handles = [plt.Line2D([0], [0], marker=marker, color='w', markerfacecolor=color, markersize=10, label=label)\n",
    "           for marker, color, label in zip(markers, colors, labels)]\n",
    "    \n",
    "    \n",
    "    line_handles = [plt.Line2D([0], [0], color=line_color, linestyle=linestyle, linewidth=2, label=line_label)\n",
    "                for line_color, linestyle, line_label in zip(lcolors, lines, llabels)]\n",
    "    \n",
    "    handles+=line_handles\n",
    "    \n",
    "    ax.legend(handles=handles,  bbox_to_anchor=(xb,yb),fontsize=13,frameon=False)\n"
   ]
  },
  {
   "cell_type": "code",
   "execution_count": null,
   "metadata": {
    "hidden": true
   },
   "outputs": [],
   "source": [
    "phenos = []\n",
    "with open('phenos.list','rt') as inpu:\n",
    "    for i in inpu:\n",
    "        if i ==\"\\n\":\n",
    "            continue\n",
    "        phenos.append(i.replace('\\n',''))\n",
    "pdict = {'continuous-30000-both_sexes-irnt':\"WBC_count\",'continuous-30140-both_sexes-irnt':\"Neutrophil_count\",'continuous-23104-both_sexes-irnt':\"BMI\",'continuous-30040-both_sexes-irnt':\"MCV\",'continuous-30050-both_sexes-irnt':\"MCH\",'continuous-50-both_sexes-irnt':\"Height\"}\n",
    "adict = {\"0424_EURtrain_proj_euc_test.tsv\":\"EUR\"}\n",
    "pvalues = [\"White blood cell count\",\"Neutrophil count\",\"BMI\",\"MCV\",\"MCH\",\"Height\"]\n",
    "\n",
    "def sample_legend(ax,xb,yb):\n",
    "    \n",
    "    labels = ['AMR', 'EUR', 'AFR', 'CSA', 'EAS', 'MID',\"PRS EUR (AoU)\"]\n",
    "    colors = [\"#ED1E24\",\"#6AA5CD\",\"#941494\",\"#FF9912\",\"#108C44\",\"#33CC33\",\"black\"]\n",
    "    markers = ['s', 's', 's', 's', 's', 's',\"D\"]\n",
    "    lines = ['-']\n",
    "    lcolors = [\"black\"]\n",
    "    llabels = [\"PRS EUR R\"]\n",
    "    \n",
    "    handles = [plt.Line2D([0], [0], marker=marker, color='w', markerfacecolor=color, markersize=10, label=label)\n",
    "           for marker, color, label in zip(markers, colors, labels)]\n",
    "    \n",
    "    \n",
    "    line_handles = [plt.Line2D([0], [0], color=line_color, linestyle=linestyle, linewidth=2, label=line_label)\n",
    "                for line_color, linestyle, line_label in zip(lcolors, lines, llabels)]\n",
    "    \n",
    "    handles+=line_handles\n",
    "    \n",
    "    ax.legend(handles=handles,  bbox_to_anchor=(xb,yb),fontsize=13,frameon=False)"
   ]
  },
  {
   "cell_type": "code",
   "execution_count": null,
   "metadata": {
    "hidden": true
   },
   "outputs": [],
   "source": [
    "accs = []\n",
    "for a in adict.keys():\n",
    "    \n",
    "    fig, ax = plt.subplots(6,1,figsize=(10,15))\n",
    "\n",
    "    for p in range(len(pdict)):\n",
    "\n",
    "        \n",
    "        \n",
    "        \n",
    "        df = pd.read_csv(f\"gs://fc-secure-06f42177-4b29-4956-88a8-88ede84cb2ab/panukbb/individualPRS/{a}\",sep=\"\\t\")\n",
    "        acc = pd.read_csv(f\"{bucket}/panukbb/individualPRS/merged_result_EURPRS/{list(pdict.keys())[p]}_rescaled.tsv\",sep=\"\\t\",header=None)\n",
    "        acc = acc.rename(columns={0:\"IID\"})\n",
    "        accs.append(acc)\n",
    "        df = pd.merge(acc,df,on=\"IID\",how=\"left\")\n",
    "        groups = df.groupby('Pop')\n",
    "        \n",
    "        \n",
    "        plot_all(ax[p],df[\"euc_dist\"], acc[2],groups,2,label=\"EUR\",marker='D',veritcal=\"bottom\",xc=0.01,yc=0,line=\"-\",color=\"black\")\n",
    "        \n",
    "        \n",
    "        ax[p].set_title(pvalues[p])\n",
    "\n",
    "    #ax[1].legend(bbox_to_anchor=(1.28,1.5))\n",
    "    sample_legend(ax[2],1.28,0.5)\n",
    "    ax[5].set_xlabel(\"Genetic distance from training population (AoU EUR-ancestry)\",fontsize=15)\n",
    "    fig.text(0.06, 0.5, 'Individual-level accuracy', va='center', rotation='vertical',fontsize=15)\n",
    "    #fig.subplots_adjust(hspace=0.3)\n",
    "    #fig.tight_layout()\n",
    "    ax[0].set_xticks([])\n",
    "    ax[1].set_xticks([])\n",
    "    ax[2].set_xticks([])\n",
    "    ax[3].set_xticks([])\n",
    "    ax[4].set_xticks([])\n",
    "    plt.savefig(f\"SFIG8_indivacc_EUR\",bbox_inches='tight',dpi=600)\n",
    "    plt.show()"
   ]
  },
  {
   "cell_type": "code",
   "execution_count": null,
   "metadata": {
    "hidden": true
   },
   "outputs": [],
   "source": []
  },
  {
   "cell_type": "code",
   "execution_count": null,
   "metadata": {
    "hidden": true
   },
   "outputs": [],
   "source": []
  },
  {
   "cell_type": "markdown",
   "metadata": {
    "heading_collapsed": true
   },
   "source": [
    "# Plot"
   ]
  },
  {
   "cell_type": "code",
   "execution_count": null,
   "metadata": {
    "hidden": true
   },
   "outputs": [],
   "source": [
    "def plot_all(ax,x,y,groups,groupind,label=\"Multi\",marker='o',veritcal=\"top\",xc=0.99,yc=0.9,legend=True,line=\"--\",color=\"black\",text=True):\n",
    "    colors = plt.rcParams['axes.prop_cycle'].by_key()['color']\n",
    "    colors = [\"#941494\",\"#ED1E24\",\"#FF9912\",\"#108C44\",\"#6AA5CD\",\"#33CC33\"]\n",
    "\n",
    "    coefficients = np.polyfit(x, y, 1)\n",
    "    slope, intercept = coefficients\n",
    "    print(slope,intercept)\n",
    "    polynomial = np.poly1d(coefficients)\n",
    "    x_fit = np.linspace(min(x), max(x), 100)\n",
    "    y_fit = polynomial(x_fit)\n",
    "    index = 0\n",
    "    for name, group in groups:\n",
    "        #group = group.iloc[:int(len(group)*0.01)]\n",
    "        if legend:\n",
    "            ax.plot(group[\"euc_dist\"], group[groupind], marker=marker, linestyle='', ms=5, label=f'{name}_PRS_{label}',alpha=0.15,c=colors[index])\n",
    "        else:\n",
    "            ax.plot(group[\"euc_dist\"], group[groupind], marker=marker, linestyle='', ms=5, alpha=0.15,c=colors[index])\n",
    "        index+=1\n",
    "    ax.plot(x_fit, y_fit, line,color=color, label=f'{label} Line of Best Fit',zorder=10)\n",
    "    corr = stats.pearsonr(x, y).statistic\n",
    "    pv = stats.pearsonr(x, y).pvalue\n",
    "    print(pv)\n",
    "    if text:\n",
    "        ax.text(xc, yc, f'PRS {label} R: {corr:.3f}, y = {intercept:.2f} - {-slope:.2f}x',\n",
    "                 horizontalalignment='left',\n",
    "                 verticalalignment=veritcal,\n",
    "                 transform = ax.transAxes)\n",
    "    return slope,intercept,corr,pv\n",
    "    \n",
    "def plot_mean(groups,groupind,ax,marker='o'):\n",
    "    colors = plt.rcParams['axes.prop_cycle'].by_key()['color']\n",
    "\n",
    "    index=0\n",
    "    for name, group in groups:\n",
    "        dist = np.mean(group[\"euc_dist\"])\n",
    "        uncer = np.mean(group[groupind])\n",
    "        ax.errorbar(dist, uncer, yerr = np.std(group[groupind]), fmt=marker, capsize=5,c=colors[index])\n",
    "        index+=1\n",
    "        \n",
    "def plot_meanstd(groups,groupind,ax,marker=\"o\"):\n",
    "    colors = plt.rcParams['axes.prop_cycle'].by_key()['color']\n",
    "\n",
    "    index = 0\n",
    "    for name, group in groups:\n",
    "        #group = group.iloc[:int(len(group)*0.01)]\n",
    "        dist = group[\"euc_dist\"]\n",
    "        ax.errorbar(dist, group[groupind[0]], yerr = group[groupind[1]], fmt=marker, capsize=5,c=colors[index],alpha=0.25)\n",
    "        index+=1\n",
    "        \n",
    "\n",
    "def sample_legend(ax,xb,yb):\n",
    "    \n",
    "    labels = ['AMR', 'EUR', 'AFR', 'CSA', 'EAS', 'MID',\"PRS Multi (AoU)\",\"PRS EUR (AoU)\"]\n",
    "    colors = [\"#ED1E24\",\"#6AA5CD\",\"#941494\",\"#FF9912\",\"#108C44\",\"#33CC33\",\"black\",\"black\"]\n",
    "    markers = ['s', 's', 's', 's', 's', 's',\"o\",\"D\"]\n",
    "    lines = ['--','-']\n",
    "    lcolors = [\"blue\",\"black\"]\n",
    "    llabels = [\"PRS Multi R\",\"PRS EUR R\"]\n",
    "    \n",
    "    handles = [plt.Line2D([0], [0], marker=marker, color='w', markerfacecolor=color, markersize=10, label=label)\n",
    "           for marker, color, label in zip(markers, colors, labels)]\n",
    "    \n",
    "    \n",
    "    line_handles = [plt.Line2D([0], [0], color=line_color, linestyle=linestyle, linewidth=2, label=line_label)\n",
    "                for line_color, linestyle, line_label in zip(lcolors, lines, llabels)]\n",
    "    \n",
    "    handles+=line_handles\n",
    "    \n",
    "    ax.legend(handles=handles,  bbox_to_anchor=(xb,yb),fontsize=13,frameon=False,ncol=5)\n"
   ]
  },
  {
   "cell_type": "code",
   "execution_count": null,
   "metadata": {
    "hidden": true
   },
   "outputs": [],
   "source": [
    "phenos = []\n",
    "with open('phenos.list','rt') as inpu:\n",
    "    for i in inpu:\n",
    "        if i ==\"\\n\":\n",
    "            continue\n",
    "        phenos.append(i.replace('\\n',''))\n",
    "pdict = {'continuous-23104-both_sexes-irnt':\"BMI\",'continuous-30040-both_sexes-irnt':\"MCV\",'continuous-30000-both_sexes-irnt':\"WBC_count\",'continuous-30140-both_sexes-irnt':\"Neutrophil_count\"}\n",
    "adict = {\"0624_trainPops_gd.tsv\":\"Meta\"}\n",
    "pvalues = [\"BMI\",\"MCV\",\"White blood cell count\",\"Neutrophil count\"]"
   ]
  },
  {
   "cell_type": "code",
   "execution_count": null,
   "metadata": {
    "hidden": true
   },
   "outputs": [],
   "source": [
    "accs = []\n",
    "colors = plt.rcParams['axes.prop_cycle'].by_key()['color']\n",
    "table = []\n",
    "for a in adict.keys():\n",
    "    \n",
    "    fig, ax = plt.subplots(4,1,figsize=(10,14))\n",
    "    #plt.rcParams['text.usetex'] = False\n",
    "    #plt.rcParams['font.family'] = ['sans-serif']\n",
    "    #plt.rcParams['font.sans-serif'] = ['Arial'] + plt.rcParams['font.sans-serif']\n",
    "    for p in range(len(pdict)):\n",
    "\n",
    "        \n",
    "        df = pd.read_csv(f\"gs://fc-secure-06f42177-4b29-4956-88a8-88ede84cb2ab/panukbb/individualPRS/{a}\",sep=\"\\t\")\n",
    "        acc = pd.read_csv(f\"{bucket}/panukbb/individualPRS/merged_result/{list(pdict.keys())[p]}_rescaled.tsv\",sep=\"\\t\",header=None)\n",
    "        acc = acc.rename(columns={0:\"IID\"})\n",
    "        accs.append(acc)\n",
    "        df = pd.merge(acc,df,on=\"IID\",how=\"left\")\n",
    "        groups = df.groupby('Pop')\n",
    "\n",
    "        # Plot\n",
    "        \n",
    "        \n",
    "        result = plot_all(ax[p],df[\"euc_dist\"], acc[2],groups,2,label=\"Multi\",marker='o',veritcal=\"bottom\",xc=0.01,yc=0.1,line=\"--\",color=\"blue\")\n",
    "        table.append(list(result)+[pvalues[p],\"Multi\"])\n",
    "        \n",
    "        \n",
    "        df = pd.read_csv(f\"gs://fc-secure-06f42177-4b29-4956-88a8-88ede84cb2ab/panukbb/individualPRS/{a}\",sep=\"\\t\")\n",
    "        acc = pd.read_csv(f\"{bucket}/panukbb/individualPRS/merged_result_EURPRS/{list(pdict.keys())[p]}_rescaled.tsv\",sep=\"\\t\",header=None)\n",
    "        acc = acc.rename(columns={0:\"IID\"})\n",
    "        accs.append(acc)\n",
    "        df = pd.merge(acc,df,on=\"IID\",how=\"left\")\n",
    "        groups = df.groupby('Pop')\n",
    "        \n",
    "        \n",
    "        result = plot_all(ax[p],df[\"euc_dist\"], acc[2],groups,2,label=\"EUR\",marker='D',veritcal=\"bottom\",xc=0.01,yc=0,line=\"-\",color=\"black\")\n",
    "        table.append(list(result)+[pvalues[p],\"EUR\"])\n",
    "        \n",
    "        ax[p].set_title(pvalues[p])\n",
    "        ax[p].set_ylim([-0.05, 1.05])\n",
    "\n",
    "    #ax[1].legend(bbox_to_anchor=(1.28,1.5))\n",
    "    sample_legend(ax[3],1,-0.35)\n",
    "    #ax[3].set_xlabel(\"Genetic distance from training population (AoU multi-ancestry meta-analysis)\",fontsize=15)\n",
    "    fig.text(0.06, 0.48, 'Individual-level accuracy', va='center', rotation='vertical',fontsize=15)\n",
    "    fig.text(0.1, 0.08, \"Genetic distance from training population (AoU multi-ancestry meta-analysis)\",va='center',fontsize=15)\n",
    "    #fig.delaxes(ax[3])\n",
    "    #fig.subplots_adjust(hspace=0.3)\n",
    "    ax[0].tick_params(labelbottom=False)    \n",
    "    \n",
    "    ax[1].tick_params(labelbottom=False)    \n",
    "    ax[2].tick_params(labelbottom=False)    \n",
    "    plt.subplots_adjust(hspace=0.7)\n",
    "    #fig.tight_layout()\n",
    "    plt.savefig(f\"fig4_v4\",bbox_inches='tight',dpi=600)\n",
    "    plt.close()"
   ]
  },
  {
   "cell_type": "code",
   "execution_count": null,
   "metadata": {
    "hidden": true
   },
   "outputs": [],
   "source": [
    "phenos = []\n",
    "with open('phenos.list','rt') as inpu:\n",
    "    for i in inpu:\n",
    "        if i ==\"\\n\":\n",
    "            continue\n",
    "        phenos.append(i.replace('\\n',''))\n",
    "pdict = {'continuous-50-both_sexes-irnt':\"Height\",'continuous-30050-both_sexes-irnt':\"MCH\"}\n",
    "adict = {\"0624_trainPops_gd.tsv\":\"Meta\"}\n",
    "pvalues = [\"Height\",\"MCH\"]\n"
   ]
  },
  {
   "cell_type": "code",
   "execution_count": null,
   "metadata": {
    "hidden": true
   },
   "outputs": [],
   "source": [
    "accs = []\n",
    "colors = plt.rcParams['axes.prop_cycle'].by_key()['color']\n",
    "for a in adict.keys():\n",
    "    \n",
    "    fig, ax = plt.subplots(2,1,figsize=(10,7))\n",
    "    #plt.rcParams['text.usetex'] = False\n",
    "    #plt.rcParams['font.family'] = ['sans-serif']\n",
    "    #plt.rcParams['font.sans-serif'] = ['Arial'] + plt.rcParams['font.sans-serif']\n",
    "    for p in range(len(pdict)):\n",
    "\n",
    "        \n",
    "        df = pd.read_csv(f\"gs://fc-secure-06f42177-4b29-4956-88a8-88ede84cb2ab/panukbb/individualPRS/{a}\",sep=\"\\t\")\n",
    "        acc = pd.read_csv(f\"{bucket}/panukbb/individualPRS/merged_result/{list(pdict.keys())[p]}_rescaled.tsv\",sep=\"\\t\",header=None)\n",
    "        acc = acc.rename(columns={0:\"IID\"})\n",
    "        accs.append(acc)\n",
    "        df = pd.merge(acc,df,on=\"IID\",how=\"left\")\n",
    "        groups = df.groupby('Pop')\n",
    "\n",
    "        # Plot\n",
    "        \n",
    "        \n",
    "        result = plot_all(ax[p],df[\"euc_dist\"], acc[2],groups,2,label=\"Multi\",marker='o',veritcal=\"bottom\",xc=0.01,yc=0.1,line=\"--\",color=\"blue\")\n",
    "        table.append(list(result)+[pvalues[p],\"Multi\"])\n",
    "        \n",
    "        \n",
    "        df = pd.read_csv(f\"gs://fc-secure-06f42177-4b29-4956-88a8-88ede84cb2ab/panukbb/individualPRS/{a}\",sep=\"\\t\")\n",
    "        acc = pd.read_csv(f\"{bucket}/panukbb/individualPRS/merged_result_EURPRS/{list(pdict.keys())[p]}_rescaled.tsv\",sep=\"\\t\",header=None)\n",
    "        acc = acc.rename(columns={0:\"IID\"})\n",
    "        accs.append(acc)\n",
    "        df = pd.merge(acc,df,on=\"IID\",how=\"left\")\n",
    "        groups = df.groupby('Pop')\n",
    "        \n",
    "        \n",
    "        result = plot_all(ax[p],df[\"euc_dist\"], acc[2],groups,2,label=\"EUR\",marker='D',veritcal=\"bottom\",xc=0.01,yc=0,line=\"-\",color=\"black\")\n",
    "        table.append(list(result)+[pvalues[p],\"EUR\"])\n",
    "        \n",
    "        ax[p].set_title(pvalues[p])\n",
    "        ax[p].set_ylim([-0.05, 1.05])\n",
    "\n",
    "    #ax[1].legend(bbox_to_anchor=(1.28,1.5))\n",
    "    sample_legend(ax[1],1,-0.35)\n",
    "    #ax[3].set_xlabel(\"Genetic distance from training population (AoU multi-ancestry meta-analysis)\",fontsize=15)\n",
    "    fig.text(0.06, 0.48, 'Individual-level accuracy', va='center', rotation='vertical',fontsize=15)\n",
    "    fig.text(0.1, 0.05, \"Genetic distance from training population (AoU multi-ancestry meta-analysis)\",va='center',fontsize=15)\n",
    "    #fig.delaxes(ax[3])\n",
    "    #fig.subplots_adjust(hspace=0.3)\n",
    "    ax[0].tick_params(labelbottom=False)      \n",
    "    plt.subplots_adjust(hspace=0.7)\n",
    "    #fig.tight_layout()\n",
    "    plt.savefig(f\"indivPRSacc_sup4\",bbox_inches='tight',dpi=600)\n",
    "    plt.close()\n",
    "    "
   ]
  },
  {
   "cell_type": "code",
   "execution_count": null,
   "metadata": {
    "hidden": true
   },
   "outputs": [],
   "source": [
    "table"
   ]
  },
  {
   "cell_type": "code",
   "execution_count": null,
   "metadata": {
    "hidden": true
   },
   "outputs": [],
   "source": [
    "pd.DataFrame(table,columns=[\"slope\",\"intercept\",\"R\",\"P\",\"trait\",\"training pop\"]).to_csv(\"figure_params.tsv\",index=None,sep=\"\\t\")"
   ]
  },
  {
   "cell_type": "code",
   "execution_count": null,
   "metadata": {
    "hidden": true
   },
   "outputs": [],
   "source": []
  }
 ],
 "metadata": {
  "kernelspec": {
   "display_name": "Python 3",
   "language": "python",
   "name": "python3"
  },
  "language_info": {
   "codemirror_mode": {
    "name": "ipython",
    "version": 3
   },
   "file_extension": ".py",
   "mimetype": "text/x-python",
   "name": "python",
   "nbconvert_exporter": "python",
   "pygments_lexer": "ipython3",
   "version": "3.10.12"
  },
  "toc": {
   "base_numbering": 1,
   "nav_menu": {},
   "number_sections": true,
   "sideBar": true,
   "skip_h1_title": false,
   "title_cell": "Table of Contents",
   "title_sidebar": "Contents",
   "toc_cell": false,
   "toc_position": {},
   "toc_section_display": true,
   "toc_window_display": false
  }
 },
 "nbformat": 4,
 "nbformat_minor": 2
}
