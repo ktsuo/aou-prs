{
 "cells": [
  {
   "cell_type": "code",
   "execution_count": null,
   "metadata": {
    "vscode": {
     "languageId": "r"
    }
   },
   "outputs": [],
   "source": [
    "import os\n",
    "import numpy as np\n",
    "import pandas as pd\n",
    "import pandas_profiling\n",
    "import plotnine\n",
    "from plotnine import *  # Provides a ggplot-like interface to matplotlib.\n",
    "from IPython.display import display\n",
    "\n",
    "## Plot setup.\n",
    "theme_set(theme_bw(base_size = 11)) # Default theme for plots.\n",
    "\n",
    "def get_boxplot_fun_data(df):\n",
    "  \"\"\"Returns a data frame with a y position and a label, for use annotating ggplot boxplots.\n",
    "\n",
    "  Args:\n",
    "    d: A data frame.\n",
    "  Returns:\n",
    "    A data frame with column y as max and column label as length.\n",
    "  \"\"\"\n",
    "  d = {'y': max(df), 'label': f'N = {len(df)}'}\n",
    "  return(pd.DataFrame(data=d, index=[0]))\n",
    "\n",
    "# NOTE: if you get any errors from this cell, restart your kernel and run it again.\n"
   ]
  },
  {
   "cell_type": "code",
   "execution_count": null,
   "metadata": {
    "vscode": {
     "languageId": "r"
    }
   },
   "outputs": [],
   "source": [
    "bucket = os.getenv(\"WORKSPACE_BUCKET\")\n",
    "bucket"
   ]
  },
  {
   "cell_type": "code",
   "execution_count": null,
   "metadata": {
    "vscode": {
     "languageId": "r"
    }
   },
   "outputs": [],
   "source": [
    "#generate population-specific genotypes by chromosme\n",
    "%%writefile ./generate_plink_pops.sh\n",
    "\n",
    "set -o errexit\n",
    "set -o nounset\n",
    "\n",
    "PLINK_BFILE=\"${PLINK_FILES%.*}\"\n",
    "echo ${PLINK_BFILE}\n",
    "\n",
    "unzip \"${PLINK2_SOFT}\"\n",
    "\n",
    "pops=\"AFR\"\n",
    "\n",
    "for pop in ${pops};do\n",
    "\n",
    "./plink2 --bfile \"${PLINK_BFILE}\" \\\n",
    "--keep \"${PCA_DIR}/aou_v7_${pop}.ids\" \\\n",
    "--make-bed \\\n",
    "--out \"${OUT_DIR}\"/aou_v7_${pop}_chr\"${CHROM}\"\n",
    "\n",
    "done\n"
   ]
  },
  {
   "cell_type": "code",
   "execution_count": null,
   "metadata": {
    "vscode": {
     "languageId": "r"
    }
   },
   "outputs": [],
   "source": [
    "%%writefile ./Regenie_GWAS_quant.sh\n",
    "\n",
    "set -o pipefail \n",
    "set -o errexit\n",
    "\n",
    "PLINK_BFILE=\"${bed_file%.*}\"\n",
    "sample_dir=$(dirname \"${sample_files}\")\n",
    "snps_dir=$(dirname \"${step1_snplists}\")\n",
    "\n",
    "pops=\"EUR AMR AFR\"\n",
    "\n",
    "for pop in ${pops};do\n",
    "\n",
    "step1_snplist=${snps_dir}/aou_v7_${pop}_maf001_qcd_rsids.snplist\n",
    "regenie \\\n",
    "    --step 1 \\\n",
    "    --bed \"${PLINK_BFILE}\" \\\n",
    "    --keep \"${sample_dir}/aou_v7_training_${pop}.ids\" \\\n",
    "    --phenoFile \"${pheno_file}\" \\\n",
    "    --phenoColList \"${phen_col}\" \\\n",
    "    --covarFile \"${cov_file}\" \\\n",
    "    --catCovarList sex \\\n",
    "    --extract \"${step1_snplist}\" \\\n",
    "    --covarColList age,age2,age2_sex,age_sex,PC1,PC2,PC3,PC4,PC5,PC6,PC7,PC8,PC9,PC10\\\n",
    "    --bsize 1000 \\\n",
    "    --verbose \\\n",
    "    --out \"${prefix}\"_step1_chr\"${chrom}\"_\"${pop}\"\n",
    "\n",
    "#regenie pt 2\n",
    "regenie \\\n",
    "    --step 2 \\\n",
    "    --bed \"${PLINK_BFILE}\" \\\n",
    "    --keep  \"${sample_dir}/aou_v7_training_${pop}.ids\" \\\n",
    "    --phenoFile \"${pheno_file}\" \\\n",
    "    --phenoColList \"${phen_col}\" \\\n",
    "    --covarFile \"${cov_file}\" \\\n",
    "    --catCovarList sex \\\n",
    "    --covarColList age,PC1,PC2,PC3,PC4,PC5,PC6,PC7,PC8,PC9,PC10\\\n",
    "    --pred \"${prefix}\"_step1_chr\"${chrom}\"_\"${pop}\"_pred.list \\\n",
    "    --bsize 400 \\\n",
    "    --verbose  --minMAC 20 \\\n",
    "    --gz \\\n",
    "    --out \"${prefix}\"_step2_chr\"${chrom}\"_\"${pop}\"\n",
    "done\n",
    "\n",
    "export regenie_results=\"*.regenie.gz\"\n",
    "echo \"regenie_results: ${regenie_results}\"\n",
    "mv ${regenie_results} ${OUTPUT_PATH}"
   ]
  },
  {
   "cell_type": "code",
   "execution_count": null,
   "metadata": {
    "vscode": {
     "languageId": "r"
    }
   },
   "outputs": [],
   "source": [
    "%%writefile ./Regenie_GWAS_binary.sh\n",
    "\n",
    "set -o pipefail \n",
    "set -o errexit\n",
    "\n",
    "PLINK_BFILE=\"${bed_file%.*}\"\n",
    "echo ${PLINK_BFILE}\n",
    "sample_dir=$(dirname \"${sample_files}\")\n",
    "snps_dir=$(dirname \"${step1_snplists}\")\n",
    "\n",
    "pops=\"EUR AMR AFR\"\n",
    "\n",
    "for pop in ${pops};do\n",
    "\n",
    "step1_snplist=${snps_dir}/aou_v7_${pop}_maf001_qcd_rsids.snplist\n",
    "regenie \\\n",
    "    --step 1 \\\n",
    "    --bed \"${PLINK_BFILE}\" \\\n",
    "    --keep \"${sample_dir}/aou_v7_training_${pop}.ids\" \\\n",
    "    --phenoFile \"${pheno_file}\" \\\n",
    "    --phenoColList \"${phen_col}\" \\\n",
    "    --covarFile \"${cov_file}\" \\\n",
    "    --catCovarList sex \\\n",
    "    --covarColList age,age2,age2_sex,age_sex,PC1,PC2,PC3,PC4,PC5,PC6,PC7,PC8,PC9,PC10\\\n",
    "    --bsize 1000 \\\n",
    "    --extract \"${step1_snplist}\" \\\n",
    "    --verbose \\\n",
    "    --bt \\\n",
    "    --out \"${prefix}\"_step1_chr\"${chrom}\"_\"${pop}\"\n",
    "\n",
    "#regenie pt 2\n",
    "regenie \\\n",
    "    --step 2 \\\n",
    "    --bed \"${PLINK_BFILE}\" \\\n",
    "    --keep  \"${sample_dir}/aou_v7_training_${pop}.ids\" \\\n",
    "    --phenoFile \"${pheno_file}\" \\\n",
    "    --phenoColList \"${phen_col}\" \\\n",
    "    --covarFile \"${cov_file}\" \\\n",
    "    --catCovarList sex \\\n",
    "    --covarColList age,PC1,PC2,PC3,PC4,PC5,PC6,PC7,PC8,PC9,PC10\\\n",
    "    --pred \"${prefix}\"_step1_chr\"${chrom}\"_\"${pop}\"_pred.list \\\n",
    "    --bsize 400 \\\n",
    "    --verbose \\\n",
    "    --minMAC 20 \\\n",
    "    --firth --approx \\\n",
    "    --bt --pThresh 0.05 \\\n",
    "    --af-cc \\\n",
    "    --gz \\\n",
    "    --out \"${prefix}\"_step2_chr\"${chrom}\"_\"${pop}\"\n",
    "done\n",
    "\n",
    "export regenie_results=\"*.regenie.gz\"\n",
    "echo \"regenie_results: ${regenie_results}\"\n",
    "mv ${regenie_results} ${OUTPUT_PATH}"
   ]
  }
 ],
 "metadata": {
  "kernelspec": {
   "display_name": "R",
   "language": "R",
   "name": "ir"
  },
  "language_info": {
   "codemirror_mode": "r",
   "file_extension": ".r",
   "mimetype": "text/x-r-source",
   "name": "R",
   "pygments_lexer": "r",
   "version": "4.3.1"
  },
  "toc": {
   "base_numbering": 1,
   "nav_menu": {},
   "number_sections": true,
   "sideBar": true,
   "skip_h1_title": false,
   "title_cell": "Table of Contents",
   "title_sidebar": "Contents",
   "toc_cell": false,
   "toc_position": {},
   "toc_section_display": true,
   "toc_window_display": false
  }
 },
 "nbformat": 4,
 "nbformat_minor": 2
}
