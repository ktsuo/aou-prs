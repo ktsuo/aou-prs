{
 "cells": [
  {
   "cell_type": "code",
   "execution_count": null,
   "metadata": {},
   "outputs": [],
   "source": [
    "import os\n",
    "import numpy as np\n",
    "import pandas as pd\n",
    "import pandas_profiling\n",
    "import plotnine\n",
    "from plotnine import *  # Provides a ggplot-like interface to matplotlib.\n",
    "from IPython.display import display\n",
    "\n"
   ]
  },
  {
   "cell_type": "code",
   "execution_count": null,
   "metadata": {},
   "outputs": [],
   "source": [
    "bucket = os.getenv(\"WORKSPACE_BUCKET\")\n",
    "bucket"
   ]
  },
  {
   "cell_type": "markdown",
   "metadata": {},
   "source": [
    "# PRS-CSx for AoU GWAS"
   ]
  },
  {
   "cell_type": "code",
   "execution_count": null,
   "metadata": {},
   "outputs": [],
   "source": [
    "%%writefile /home/jupyter/panukbb/scripts/run_prs_forPRS-CSx_aou.sh\n",
    "\n",
    "set -o errexit\n",
    "set -o nounset\n",
    "\n",
    "PLINK_BFILE=\"${PLINK_FILES%.*}\"\n",
    "echo ${PLINK_BFILE}\n",
    "\n",
    "unzip \"${PLINK2_SOFT}\"\n",
    "\n",
    "       \n",
    "    ./plink2 --bfile \"${PLINK_BFILE}\" \\\n",
    "        --score \"${SCOREFILE}\" 2 4 6 cols=+scoresums \\\n",
    "        --out \"${OUT_DIR}\"/\"${PHENO}\"_chr\"${CHROM}\""
   ]
  },
  {
   "cell_type": "code",
   "execution_count": null,
   "metadata": {},
   "outputs": [],
   "source": [
    "%%bash\n",
    "\n",
    "cd /home/jupyter/panukbb/v2/prscsx/prscsx_aou_meta/\n",
    "ls *chr22.txt > pheno.list\n",
    "sed 's/_META_pst_eff_a1_b0.5_phiauto_chr22.txt//g' pheno.list > pheno.list2\n",
    "\n",
    "\n",
    "# Header\n",
    "echo -e \"--env CHROM\\t--env PHENO\\t--input SCOREFILE\\t--input PLINK_FILES\" > /home/jupyter/panukbb/scripts/tasks_prscsx_prs_aou.tsv\n",
    "\n",
    "# Nested loop for combinations\n",
    "    for chrom in {1..22}; do\n",
    "        while read pheno;do\n",
    "        echo -e \"${chrom}\\t${pheno}\\t${WORKSPACE_BUCKET}/panukbb/prs_csx/aou/${pheno}_META_pst_eff_a1_b0.5_phiauto_chr${chrom}.txt\\t${WORKSPACE_BUCKET}/panukbb/data/aou_v7_testPops_chr${chrom}.*\" >> /home/jupyter/panukbb/scripts/tasks_prscsx_prs_aou.tsv\n",
    "        done < /home/jupyter/panukbb/v2/prscsx/prscsx_aou_meta/pheno.list2\n",
    "    done"
   ]
  },
  {
   "cell_type": "code",
   "execution_count": null,
   "metadata": {},
   "outputs": [],
   "source": [
    "%%bash --out TEST_JOB_ID\n",
    "\n",
    "source ~/aou_dsub.bash\n",
    "\n",
    "\n",
    "aou_dsub \\\n",
    "  --image gcr.io/ukbb-diversepops-neale/yw-prs-r:test \\\n",
    "  --input PLINK2_SOFT=\"${WORKSPACE_BUCKET}/software/plink2.zip\" \\\n",
    "  --output-recursive OUT_DIR=\"${WORKSPACE_BUCKET}/panukbb/profiles/prs_csx/aou/chrs/\" \\\n",
    "  --min-cores 1 \\\n",
    "  --min-ram 10 \\\n",
    "  --disk-size 10 \\\n",
    "  --boot-disk-size 10 \\\n",
    "  --name \"prs_prscsx_1217\" \\\n",
    "  --label \"batch=prs_prscsx_1217\" \\\n",
    "  --tasks  '/home/jupyter/panukbb/scripts/tasks_prscsx_prs_aou.tsv' \\\n",
    "  --script '/home/jupyter/panukbb/scripts/run_prs_forPRS-CSx_aou.sh'"
   ]
  },
  {
   "cell_type": "code",
   "execution_count": null,
   "metadata": {},
   "outputs": [],
   "source": [
    "%%writefile /home/jupyter/panukbb/scripts/merge_scoreFiles_PRSCSx_aou.R\n",
    "#!/usr/bin/env Rscript\n",
    "\n",
    "library(data.table)\n",
    "\n",
    "setDTthreads(1)\n",
    "\n",
    "\n",
    "scores1 <- c(\"IID\", \"SCORE1_SUM\")\n",
    "\n",
    "#print(paste0(\"PRS_DIRs is \", Sys.getenv(\"PRS_DIRs\")))\n",
    "#print(paste0(\"OUT_DIR is \", Sys.getenv(\"OUT_DIR\")))\n",
    "#print(paste0(\"Phen is \", Sys.getenv(\"PHENO\")))\n",
    "\n",
    "prsdir2 <- dirname(Sys.getenv(\"PRS_DIRs\"))#prs-cs-meta\n",
    "phe <- Sys.getenv(\"PHENO\")\n",
    "outdir <- Sys.getenv(\"OUT_DIR\")\n",
    "\n",
    "listDf1 <- list()\n",
    "\n",
    "\n",
    "    \n",
    "    for(chrom in 1:22){    \n",
    "         \n",
    "        df1 <- fread(paste0(prsdir2, \"/\", phe, \"_chr\", chrom, \".sscore\"),  stringsAsFactors = F)[,..scores1] \n",
    "    \n",
    "        names(df1)[2] <- paste0(\"chr\", chrom)\n",
    "        listDf1[[chrom]] <- df1\n",
    "        rm(df1)\n",
    "    }\n",
    "    \n",
    "    dfMerged <- Reduce(function(...) merge(..., by = c(\"IID\")), listDf1)\n",
    "    dfMerged[,SCORE1_SUM := rowSums(as.matrix(dfMerged[,2:ncol(dfMerged)]))]\n",
    "    prs <- dfMerged[,c(\"IID\", \"SCORE1_SUM\")]\n",
    "    \n",
    "    fwrite(prs, file = paste0(outdir, \"/\", phe, \"_PRS-CSx.sscore\"), col.names = T, row.names = F, quote = F, sep = \"\\t\")\n"
   ]
  },
  {
   "cell_type": "code",
   "execution_count": null,
   "metadata": {},
   "outputs": [],
   "source": [
    "%%bash --out TEST3_JOB_ID\n",
    "\n",
    "source ~/aou_dsub.bash\n",
    "\n",
    "while read pheno;do\n",
    "#if gsutil -q stat ${WORKSPACE_BUCKET}/panukbb/profiles/combined/${pheno}_S10_PT_EUR.sscore\n",
    "#then\n",
    "#echo \"exist\"\n",
    "#else\n",
    "aou_dsub \\\n",
    "  --image gcr.io/ukbb-diversepops-neale/yw-prs-r:test \\\n",
    "  --min-cores 1 \\\n",
    "  --min-ram 10 \\\n",
    "  --disk-size 10 \\\n",
    "  --boot-disk-size 10 \\\n",
    "  --name \"prscs_merge\" \\\n",
    "  --preemptible \\\n",
    "  --input PRS_DIRs=\"${WORKSPACE_BUCKET}/panukbb/profiles/prs_csx/aou/chrs/${pheno}_*.sscore\" \\\n",
    "  --output-recursive OUT_DIR=\"${WORKSPACE_BUCKET}/panukbb/profiles/prs_csx/aou/combined/\" \\\n",
    "  --env PHENO=${pheno} \\\n",
    "  --label \"batch=prscsx_merge_1217\" \\\n",
    "  --script '/home/jupyter/panukbb/scripts/merge_scoreFiles_PRSCSx_aou.R'\n",
    "#fi\n",
    "done < /home/jupyter/panukbb/v2/prscsx/prscsx_aou_meta/pheno.list2"
   ]
  }
 ],
 "metadata": {
  "kernelspec": {
   "display_name": "Python 3",
   "language": "python",
   "name": "python3"
  },
  "language_info": {
   "codemirror_mode": {
    "name": "ipython",
    "version": 3
   },
   "file_extension": ".py",
   "mimetype": "text/x-python",
   "name": "python",
   "nbconvert_exporter": "python",
   "pygments_lexer": "ipython3",
   "version": "3.7.12"
  },
  "toc": {
   "base_numbering": 1,
   "nav_menu": {},
   "number_sections": true,
   "sideBar": true,
   "skip_h1_title": false,
   "title_cell": "Table of Contents",
   "title_sidebar": "Contents",
   "toc_cell": false,
   "toc_position": {},
   "toc_section_display": true,
   "toc_window_display": false
  }
 },
 "nbformat": 4,
 "nbformat_minor": 2
}
